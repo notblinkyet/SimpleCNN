{
  "cells": [
    {
      "cell_type": "code",
      "execution_count": 1,
      "metadata": {
        "colab": {
          "base_uri": "https://localhost:8080/"
        },
        "id": "64GH6oZE2QoO",
        "outputId": "1a8a2243-c57f-491c-c1b0-ac7c5ee7ffce"
      },
      "outputs": [
        {
          "output_type": "stream",
          "name": "stdout",
          "text": [
            "Requirement already satisfied: kaggle in /usr/local/lib/python3.10/dist-packages (1.6.12)\n",
            "Requirement already satisfied: six>=1.10 in /usr/local/lib/python3.10/dist-packages (from kaggle) (1.16.0)\n",
            "Requirement already satisfied: certifi>=2023.7.22 in /usr/local/lib/python3.10/dist-packages (from kaggle) (2024.2.2)\n",
            "Requirement already satisfied: python-dateutil in /usr/local/lib/python3.10/dist-packages (from kaggle) (2.8.2)\n",
            "Requirement already satisfied: requests in /usr/local/lib/python3.10/dist-packages (from kaggle) (2.31.0)\n",
            "Requirement already satisfied: tqdm in /usr/local/lib/python3.10/dist-packages (from kaggle) (4.66.2)\n",
            "Requirement already satisfied: python-slugify in /usr/local/lib/python3.10/dist-packages (from kaggle) (8.0.4)\n",
            "Requirement already satisfied: urllib3 in /usr/local/lib/python3.10/dist-packages (from kaggle) (2.0.7)\n",
            "Requirement already satisfied: bleach in /usr/local/lib/python3.10/dist-packages (from kaggle) (6.1.0)\n",
            "Requirement already satisfied: webencodings in /usr/local/lib/python3.10/dist-packages (from bleach->kaggle) (0.5.1)\n",
            "Requirement already satisfied: text-unidecode>=1.3 in /usr/local/lib/python3.10/dist-packages (from python-slugify->kaggle) (1.3)\n",
            "Requirement already satisfied: charset-normalizer<4,>=2 in /usr/local/lib/python3.10/dist-packages (from requests->kaggle) (3.3.2)\n",
            "Requirement already satisfied: idna<4,>=2.5 in /usr/local/lib/python3.10/dist-packages (from requests->kaggle) (3.7)\n"
          ]
        }
      ],
      "source": [
        "!pip install kaggle;"
      ]
    },
    {
      "cell_type": "code",
      "execution_count": 2,
      "metadata": {
        "colab": {
          "base_uri": "https://localhost:8080/"
        },
        "id": "Mq_5nIAXPjzz",
        "outputId": "c79a1254-f38e-494d-ade0-a79a3738276c"
      },
      "outputs": [
        {
          "output_type": "stream",
          "name": "stdout",
          "text": [
            "Mounted at /content/drive\n"
          ]
        }
      ],
      "source": [
        "from google.colab import drive\n",
        "drive.mount(\"/content/drive\")"
      ]
    },
    {
      "cell_type": "code",
      "execution_count": 3,
      "metadata": {
        "id": "BJiIr9npQCJF"
      },
      "outputs": [],
      "source": [
        "!mkdir ~/.kaggle"
      ]
    },
    {
      "cell_type": "code",
      "execution_count": 4,
      "metadata": {
        "id": "4N4U_uRRQLyg"
      },
      "outputs": [],
      "source": [
        "!cp /content/drive/MyDrive/kaggle_API/kaggle.json ~/.kaggle/kaggle.json"
      ]
    },
    {
      "cell_type": "code",
      "execution_count": 5,
      "metadata": {
        "id": "Fa2EmrPiSfN4"
      },
      "outputs": [],
      "source": [
        "!chmod 600 ~/.kaggle/kaggle.json"
      ]
    },
    {
      "cell_type": "code",
      "execution_count": 6,
      "metadata": {
        "colab": {
          "base_uri": "https://localhost:8080/"
        },
        "id": "91uIMLksSzyJ",
        "outputId": "8d938a0d-84b7-47af-9414-3cb60eb7d09a"
      },
      "outputs": [
        {
          "output_type": "stream",
          "name": "stdout",
          "text": [
            "Downloading journey-springfield.zip to /content\n",
            " 99% 518M/521M [00:22<00:00, 29.2MB/s]\n",
            "100% 521M/521M [00:22<00:00, 23.8MB/s]\n"
          ]
        }
      ],
      "source": [
        "!kaggle competitions download -c journey-springfield"
      ]
    },
    {
      "cell_type": "code",
      "execution_count": 7,
      "metadata": {
        "id": "B1Kscf4Vb2hd"
      },
      "outputs": [],
      "source": [
        "!unzip -q journey-springfield.zip;"
      ]
    },
    {
      "cell_type": "code",
      "execution_count": 8,
      "metadata": {
        "id": "uBptutY_hhJk"
      },
      "outputs": [],
      "source": [
        "import torch\n",
        "import pickle\n",
        "import numpy as np\n",
        "import torch.nn as nn\n",
        "import torchvision\n",
        "from torchvision import transforms\n",
        "from torch.utils.data import DataLoader, Dataset\n",
        "from matplotlib import colors, pyplot as plt\n",
        "from sklearn.preprocessing import LabelEncoder\n",
        "from PIL import Image\n",
        "from pathlib import Path\n",
        "%matplotlib inline\n",
        "\n",
        "TRAIN_DIR = Path('/content/train')\n",
        "TEST_DIR = Path(\"/content/testset\")"
      ]
    },
    {
      "cell_type": "code",
      "execution_count": 9,
      "metadata": {
        "id": "RrRxOV4im2iM"
      },
      "outputs": [],
      "source": [
        "train_val_files = sorted(list(TRAIN_DIR.rglob('*.jpg')))\n",
        "test_files = sorted(list(TEST_DIR.rglob('*.jpg')))\n",
        "DATA_MODES = [\"test\", \"val\", \"train\"]\n",
        "RESCALE_SIZE = 224"
      ]
    },
    {
      "cell_type": "code",
      "execution_count": 10,
      "metadata": {
        "id": "AJop8-Pdm9Kd"
      },
      "outputs": [],
      "source": [
        "class SpesialDataset(Dataset):\n",
        "  def __init__(self, files, mode):\n",
        "    super().__init__()\n",
        "    self.files = files\n",
        "    self.mode = mode\n",
        "\n",
        "    if self.mode not in DATA_MODES:\n",
        "      print(f\"{self.mode} is not correct; correct modes: {DATA_MODES}\")\n",
        "      raise NameError\n",
        "\n",
        "    self.len_ = len(self.files)\n",
        "\n",
        "    self.label_encoder = LabelEncoder()\n",
        "\n",
        "    if self.mode != \"test\":\n",
        "\n",
        "      self.labels = [path.parent.name for path in self.files]\n",
        "      self.label_encoder.fit(self.labels)\n",
        "\n",
        "      with open(\"label_encode.pkl\", \"wb\") as le_dump_file:\n",
        "        pickle.dump(self.label_encoder, le_dump_file)\n",
        "\n",
        "  def __len__(self):\n",
        "    return self.len_\n",
        "\n",
        "  def load_sample(self, file):\n",
        "    image = Image.open(file)\n",
        "    image.load()\n",
        "    return image\n",
        "\n",
        "  def _prepare_sample(self, image):\n",
        "      image = image.resize((RESCALE_SIZE, RESCALE_SIZE))\n",
        "      return np.array(image)\n",
        "\n",
        "  def __getitem__(self, index):\n",
        "    transform = transforms.Compose([\n",
        "        transforms.ToTensor(),\n",
        "        transforms.Normalize([0.485, 0.456, 0.406], [0.229, 0.224, 0.225])\n",
        "    ])\n",
        "\n",
        "    x = self.load_sample(self.files[index])\n",
        "    x = self._prepare_sample(x)\n",
        "    x = np.array(x / 255, dtype='float32')\n",
        "    x = transform(x)\n",
        "    if self.mode == 'test':\n",
        "      return x\n",
        "    else:\n",
        "      label = self.labels[index]\n",
        "      label_id = self.label_encoder.transform([label])\n",
        "      y = label_id.item()\n",
        "      return x, y\n"
      ]
    },
    {
      "cell_type": "code",
      "execution_count": 11,
      "metadata": {
        "id": "o6O9S2mYnC4F"
      },
      "outputs": [],
      "source": [
        "from sklearn.model_selection import train_test_split\n",
        "\n",
        "train_val_labels = [path.parent.name for path in train_val_files]\n",
        "\n",
        "train_files, val_files = train_test_split(train_val_files, test_size=0.20,\n",
        "                                          stratify=train_val_labels)"
      ]
    },
    {
      "cell_type": "code",
      "execution_count": 12,
      "metadata": {
        "id": "jJL04vN3nGmF"
      },
      "outputs": [],
      "source": [
        "val_dataset = SpesialDataset(val_files, mode=\"val\")\n",
        "train_dataset = SpesialDataset(train_files, mode='train')\n",
        "test_dataset = SpesialDataset(test_files, mode=\"test\")"
      ]
    },
    {
      "cell_type": "code",
      "execution_count": 13,
      "metadata": {
        "id": "j-tg7UfKoCEi"
      },
      "outputs": [],
      "source": [
        "class SimpleCNN(nn.Module):\n",
        "  def __init__(self, n_classes):\n",
        "    super().__init__()\n",
        "    self.conv1 = nn.Sequential(\n",
        "        nn.Conv2d(in_channels=3, out_channels=8, kernel_size=3),\n",
        "        nn.ReLU(),\n",
        "        nn.MaxPool2d(kernel_size=2)\n",
        "    )\n",
        "    self.conv2 = nn.Sequential(\n",
        "        nn.Conv2d(in_channels=8, out_channels=16, kernel_size=3),\n",
        "        nn.ReLU(),\n",
        "        nn.MaxPool2d(kernel_size=2)\n",
        "    )\n",
        "    self.conv3 = nn.Sequential(\n",
        "        nn.Conv2d(in_channels=16, out_channels=32, kernel_size=3),\n",
        "        nn.ReLU(),\n",
        "        nn.MaxPool2d(kernel_size=2)\n",
        "    )\n",
        "    self.conv4 = nn.Sequential(\n",
        "        nn.Conv2d(in_channels=32, out_channels=64, kernel_size=3),\n",
        "        nn.ReLU(),\n",
        "        nn.MaxPool2d(kernel_size=2)\n",
        "    )\n",
        "    self.conv5 = nn.Sequential(\n",
        "        nn.Conv2d(in_channels=64, out_channels=96, kernel_size=3),\n",
        "        nn.ReLU(),\n",
        "        nn.MaxPool2d(kernel_size=2)\n",
        "    )\n",
        "    self.flatten = nn.Flatten()\n",
        "\n",
        "    self.out = nn.Linear(96 * 5 * 5, n_classes)\n",
        "\n",
        "  def forward(self, x):\n",
        "    x = self.conv1(x)\n",
        "    x = self.conv2(x)\n",
        "    x = self.conv3(x)\n",
        "    x = self.conv4(x)\n",
        "    x = self.conv5(x)\n",
        "    x = self.flatten(x)\n",
        "    return self.out(x)"
      ]
    },
    {
      "cell_type": "code",
      "execution_count": 14,
      "metadata": {
        "id": "ngGiRpiooPAx"
      },
      "outputs": [],
      "source": [
        "device = torch.device(\"cuda\")\n",
        "def epoch_fit(model, train_loader, criterion, optimizer):\n",
        "  running_loss = 0.0\n",
        "  running_correct = 0\n",
        "  processed_data = 0\n",
        "\n",
        "  for inputs, labels in train_loader:\n",
        "    inputs = inputs.to(device)\n",
        "    labels = labels.to(device)\n",
        "    optimizer.zero_grad()\n",
        "\n",
        "    outputs = model(inputs)\n",
        "    loss = criterion(outputs, labels)\n",
        "    loss.backward()\n",
        "    optimizer.step()\n",
        "    preds = torch.argmax(outputs, 1)\n",
        "    running_loss += loss.item() * inputs.size(0)\n",
        "    running_correct += torch.sum(preds == labels.data)\n",
        "    processed_data += inputs.size(0)\n",
        "\n",
        "  train_loss = running_loss / processed_data\n",
        "  train_acc = running_correct.cpu().numpy() / processed_data\n",
        "  return train_loss, train_acc"
      ]
    },
    {
      "cell_type": "code",
      "execution_count": 15,
      "metadata": {
        "id": "QaH3p7MroRpl"
      },
      "outputs": [],
      "source": [
        "def eval_fit(model, val_loader, criterion):\n",
        "  model.eval()\n",
        "  running_loss = 0.0\n",
        "  running_correct = 0\n",
        "  processed_size = 0\n",
        "\n",
        "  for inputs, labels in val_loader:\n",
        "    inputs = inputs.to(device)\n",
        "    labels = labels.to(device)\n",
        "\n",
        "    with torch.set_grad_enabled(False):\n",
        "      outputs = model(inputs)\n",
        "      loss = criterion(outputs, labels)\n",
        "      preds = torch.argmax(outputs, 1)\n",
        "\n",
        "    running_loss += loss.item() * outputs.size(0)\n",
        "    running_correct += torch.sum(preds == labels)\n",
        "    processed_size += inputs.size(0)\n",
        "  val_loss = running_loss / processed_size\n",
        "  val_acc = running_correct.double() / processed_size\n",
        "  return val_loss, val_acc"
      ]
    },
    {
      "cell_type": "code",
      "execution_count": 16,
      "metadata": {
        "id": "zNtkuLrZoVDK"
      },
      "outputs": [],
      "source": [
        "from tqdm import tqdm, tqdm_notebook\n",
        "def train(train_dataset, val_dataset, model, epoches, batch_size):\n",
        "  train_loader = DataLoader(train_dataset, batch_size=batch_size, shuffle=True)\n",
        "  val_loader = DataLoader(val_dataset, batch_size=batch_size, shuffle=False)\n",
        "\n",
        "  history = []\n",
        "\n",
        "  with tqdm(desc=\"epoch\", total=epoches) as pbar_outer:\n",
        "    opt = torch.optim.Adam(model.parameters(), lr=1e-4)\n",
        "    criterion = nn.CrossEntropyLoss()\n",
        "\n",
        "    for epoch in range(epoches):\n",
        "      train_loss, train_acc = epoch_fit(model,train_loader, criterion, opt)\n",
        "      print(\"loss\", train_loss)\n",
        "\n",
        "      val_loss, val_acc = eval_fit(model, val_loader, criterion)\n",
        "      history.append((train_loss, train_acc, val_loss, val_acc))\n",
        "\n",
        "      pbar_outer.update(1)\n",
        "      tqdm.write(f\"\\nEpoch {epoch+1} train_loss: {train_loss} \\\n",
        "    val_loss {val_loss} train_acc {train_acc} val_acc {val_acc}\")\n",
        "  return history"
      ]
    },
    {
      "cell_type": "code",
      "execution_count": 17,
      "metadata": {
        "id": "9J1d5iuboijA"
      },
      "outputs": [],
      "source": [
        "n_classes = len(np.unique(train_val_labels))\n",
        "model = SimpleCNN(n_classes)"
      ]
    },
    {
      "cell_type": "code",
      "execution_count": 18,
      "metadata": {
        "id": "pN1TNnL808ga",
        "colab": {
          "base_uri": "https://localhost:8080/"
        },
        "outputId": "52c8f811-0388-47cb-932e-5826d2bc638d"
      },
      "outputs": [
        {
          "output_type": "stream",
          "name": "stderr",
          "text": [
            "\repoch:   0%|          | 0/10 [00:00<?, ?it/s]"
          ]
        },
        {
          "output_type": "stream",
          "name": "stdout",
          "text": [
            "loss 3.0652861721581433\n"
          ]
        },
        {
          "output_type": "stream",
          "name": "stderr",
          "text": [
            "epoch:  10%|█         | 1/10 [02:07<19:06, 127.35s/it]"
          ]
        },
        {
          "output_type": "stream",
          "name": "stdout",
          "text": [
            "\n",
            "Epoch 1 train_loss: 3.0652861721581433     val_loss 2.7427583594352956 train_acc 0.13328556073092082 val_acc 0.23143061858132316\n",
            "loss 2.478673724850261\n"
          ]
        },
        {
          "output_type": "stream",
          "name": "stderr",
          "text": [
            "epoch:  20%|██        | 2/10 [04:13<16:52, 126.53s/it]"
          ]
        },
        {
          "output_type": "stream",
          "name": "stdout",
          "text": [
            "\n",
            "Epoch 2 train_loss: 2.478673724850261     val_loss 2.243408093966076 train_acc 0.31637405947689 val_acc 0.3871507045617387\n",
            "loss 2.0848795977969132\n"
          ]
        },
        {
          "output_type": "stream",
          "name": "stderr",
          "text": [
            "epoch:  30%|███       | 3/10 [06:18<14:39, 125.71s/it]"
          ]
        },
        {
          "output_type": "stream",
          "name": "stdout",
          "text": [
            "\n",
            "Epoch 3 train_loss: 2.0848795977969132     val_loss 2.0029982878764945 train_acc 0.4256538874955213 val_acc 0.4487700023883449\n",
            "loss 1.8341612283095485\n"
          ]
        },
        {
          "output_type": "stream",
          "name": "stderr",
          "text": [
            "epoch:  40%|████      | 4/10 [08:22<12:31, 125.19s/it]"
          ]
        },
        {
          "output_type": "stream",
          "name": "stdout",
          "text": [
            "\n",
            "Epoch 4 train_loss: 1.8341612283095485     val_loss 1.819424641909621 train_acc 0.49044547951749673 val_acc 0.49653689992834965\n",
            "loss 1.6158674942554432\n"
          ]
        },
        {
          "output_type": "stream",
          "name": "stderr",
          "text": [
            "epoch:  50%|█████     | 5/10 [10:28<10:26, 125.35s/it]"
          ]
        },
        {
          "output_type": "stream",
          "name": "stdout",
          "text": [
            "\n",
            "Epoch 5 train_loss: 1.6158674942554432     val_loss 1.665977330489121 train_acc 0.5541024722321749 val_acc 0.5447814664437545\n",
            "loss 1.4459677943758507\n"
          ]
        },
        {
          "output_type": "stream",
          "name": "stderr",
          "text": [
            "epoch:  60%|██████    | 6/10 [12:32<08:20, 125.19s/it]"
          ]
        },
        {
          "output_type": "stream",
          "name": "stdout",
          "text": [
            "\n",
            "Epoch 6 train_loss: 1.4459677943758507     val_loss 1.5319045470328612 train_acc 0.5979935506986743 val_acc 0.5865775017912587\n",
            "loss 1.3007979363391693\n"
          ]
        },
        {
          "output_type": "stream",
          "name": "stderr",
          "text": [
            "epoch:  70%|███████   | 7/10 [14:39<06:17, 125.70s/it]"
          ]
        },
        {
          "output_type": "stream",
          "name": "stdout",
          "text": [
            "\n",
            "Epoch 7 train_loss: 1.3007979363391693     val_loss 1.4357399283373358 train_acc 0.6387196942553446 val_acc 0.6154764748029615\n",
            "loss 1.1844484562744566\n"
          ]
        },
        {
          "output_type": "stream",
          "name": "stderr",
          "text": [
            "epoch:  80%|████████  | 8/10 [16:44<04:10, 125.26s/it]"
          ]
        },
        {
          "output_type": "stream",
          "name": "stdout",
          "text": [
            "\n",
            "Epoch 8 train_loss: 1.1844484562744566     val_loss 1.3621583559759654 train_acc 0.6707870536247462 val_acc 0.6415094339622641\n",
            "loss 1.0762486589876081\n"
          ]
        },
        {
          "output_type": "stream",
          "name": "stderr",
          "text": [
            "epoch:  90%|█████████ | 9/10 [18:48<02:04, 124.96s/it]"
          ]
        },
        {
          "output_type": "stream",
          "name": "stdout",
          "text": [
            "\n",
            "Epoch 9 train_loss: 1.0762486589876081     val_loss 1.3531550999213893 train_acc 0.6974202794697241 val_acc 0.6427036064007643\n",
            "loss 0.9881813247671096\n"
          ]
        },
        {
          "output_type": "stream",
          "name": "stderr",
          "text": [
            "epoch: 100%|██████████| 10/10 [20:53<00:00, 125.38s/it]"
          ]
        },
        {
          "output_type": "stream",
          "name": "stdout",
          "text": [
            "\n",
            "Epoch 10 train_loss: 0.9881813247671096     val_loss 1.3291377140623246 train_acc 0.7242326525737489 val_acc 0.659660855027466\n"
          ]
        },
        {
          "output_type": "stream",
          "name": "stderr",
          "text": [
            "\n"
          ]
        }
      ],
      "source": [
        "history3 = train(train_dataset, val_dataset, model=model.to(device), epoches=10, batch_size=64)"
      ]
    },
    {
      "cell_type": "code",
      "execution_count": 19,
      "metadata": {
        "id": "RFlAbmJh1AQO",
        "colab": {
          "base_uri": "https://localhost:8080/",
          "height": 773
        },
        "outputId": "37e7d155-009d-4119-83f1-fe40985b53f8"
      },
      "outputs": [
        {
          "output_type": "display_data",
          "data": {
            "text/plain": [
              "<Figure size 1500x900 with 1 Axes>"
            ],
            "image/png": "[encoded data removed]"
          },
          "metadata": {}
        }
      ],
      "source": [
        "loss, acc, val_loss, val_acc = zip(*history3)\n",
        "\n",
        "plt.figure(figsize=(15, 9))\n",
        "plt.plot(loss, label=\"train_loss\")\n",
        "plt.plot(val_loss, label=\"val_loss\")\n",
        "plt.legend(loc='best')\n",
        "plt.xlabel(\"epochs\")\n",
        "plt.ylabel(\"loss\")\n",
        "plt.show()"
      ]
    },
    {
      "cell_type": "code",
      "execution_count": 20,
      "metadata": {
        "id": "ReDOjoIX3ftM"
      },
      "outputs": [],
      "source": [
        "def predict(model, test_loader):\n",
        "    with torch.no_grad():\n",
        "        logits = []\n",
        "\n",
        "        for inputs in test_loader:\n",
        "            inputs = inputs.to(device)\n",
        "            model.eval()\n",
        "            outputs = model(inputs).cpu()\n",
        "            logits.append(outputs)\n",
        "\n",
        "    probs = nn.functional.softmax(torch.cat(logits), dim=-1).numpy()\n",
        "    return probs"
      ]
    },
    {
      "cell_type": "code",
      "execution_count": 21,
      "metadata": {
        "id": "9JDbhy0l3g2p"
      },
      "outputs": [],
      "source": [
        "label_encoder = pickle.load(open(\"/content/label_encode.pkl\", 'rb'))"
      ]
    },
    {
      "cell_type": "code",
      "source": [
        "test_dataset = SpesialDataset(test_files, mode=\"test\")\n",
        "test_loader = DataLoader(test_dataset, shuffle=False, batch_size=64)\n",
        "probs = predict(model, test_loader)\n",
        "preds = label_encoder.inverse_transform(np.argmax(probs, axis=1))\n",
        "test_filenames = [path.name for path in test_dataset.files]"
      ],
      "metadata": {
        "id": "RRMi3KVvYsFu"
      },
      "execution_count": 22,
      "outputs": []
    },
    {
      "cell_type": "code",
      "execution_count": 23,
      "metadata": {
        "colab": {
          "base_uri": "https://localhost:8080/"
        },
        "id": "oTKiKIbR8q_X",
        "outputId": "61f34ddb-0c6a-4359-9c72-ba5126cc04e2"
      },
      "outputs": [
        {
          "output_type": "stream",
          "name": "stdout",
          "text": [
            "/bin/bash: line 1: cd: too many arguments\n"
          ]
        }
      ],
      "source": [
        "import pandas as pd\n",
        "# my_submit = pd.read_csv(\"gdrive/My Drive/labels.csv\")\n",
        "my_submit = pd.DataFrame({'Id': test_filenames, 'Expected': preds})\n",
        "my_submit.head()\n",
        "!cd drive/My Drive && touch baseline.csv\n",
        "my_submit.to_csv('drive/My Drive/baseline.csv', index=False)"
      ]
    }
  ],
  "metadata": {
    "accelerator": "GPU",
    "colab": {
      "provenance": []
    },
    "kernelspec": {
      "display_name": "Python 3",
      "name": "python3"
    },
    "language_info": {
      "name": "python"
    }
  },
  "nbformat": 4,
  "nbformat_minor": 0
}